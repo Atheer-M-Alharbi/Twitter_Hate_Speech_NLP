{
 "cells": [
  {
   "cell_type": "code",
   "execution_count": 1,
   "id": "f6e0a267",
   "metadata": {},
   "outputs": [],
   "source": [
    "import pandas as pd\n",
    "import numpy as np\n",
    "import string  \n",
    "import nltk \n",
    "from nltk.corpus import stopwords\n",
    "stop_words = stopwords.words(\"english\")\n",
    "import re\n",
    "from nltk.tokenize import TweetTokenizer\n",
    "from itertools import chain\n",
    "from collections import Counter\n",
    "from sklearn.model_selection import train_test_split\n",
    "from sklearn.feature_extraction.text import TfidfVectorizer\n",
    "from sklearn.linear_model import LogisticRegression\n",
    "from sklearn.metrics import accuracy_score, classification_report\n",
    "from sklearn.model_selection import GridSearchCV, StratifiedKFold\n",
    "import warnings\n",
    "warnings.filterwarnings('ignore')"
   ]
  },
  {
   "cell_type": "code",
   "execution_count": 2,
   "id": "60ef4728",
   "metadata": {},
   "outputs": [],
   "source": [
    "# Load the tweets file \n",
    "TwitterHate_df = pd.read_csv(\"TwitterHate.csv\")"
   ]
  },
  {
   "cell_type": "code",
   "execution_count": 3,
   "id": "1ab791ce",
   "metadata": {},
   "outputs": [
    {
     "data": {
      "text/html": [
       "<div>\n",
       "<style scoped>\n",
       "    .dataframe tbody tr th:only-of-type {\n",
       "        vertical-align: middle;\n",
       "    }\n",
       "\n",
       "    .dataframe tbody tr th {\n",
       "        vertical-align: top;\n",
       "    }\n",
       "\n",
       "    .dataframe thead th {\n",
       "        text-align: right;\n",
       "    }\n",
       "</style>\n",
       "<table border=\"1\" class=\"dataframe\">\n",
       "  <thead>\n",
       "    <tr style=\"text-align: right;\">\n",
       "      <th></th>\n",
       "      <th>id</th>\n",
       "      <th>label</th>\n",
       "      <th>tweet</th>\n",
       "    </tr>\n",
       "  </thead>\n",
       "  <tbody>\n",
       "    <tr>\n",
       "      <th>0</th>\n",
       "      <td>1</td>\n",
       "      <td>0</td>\n",
       "      <td>@user when a father is dysfunctional and is s...</td>\n",
       "    </tr>\n",
       "    <tr>\n",
       "      <th>1</th>\n",
       "      <td>2</td>\n",
       "      <td>0</td>\n",
       "      <td>@user @user thanks for #lyft credit i can't us...</td>\n",
       "    </tr>\n",
       "    <tr>\n",
       "      <th>2</th>\n",
       "      <td>3</td>\n",
       "      <td>0</td>\n",
       "      <td>bihday your majesty</td>\n",
       "    </tr>\n",
       "    <tr>\n",
       "      <th>3</th>\n",
       "      <td>4</td>\n",
       "      <td>0</td>\n",
       "      <td>#model   i love u take with u all the time in ...</td>\n",
       "    </tr>\n",
       "    <tr>\n",
       "      <th>4</th>\n",
       "      <td>5</td>\n",
       "      <td>0</td>\n",
       "      <td>factsguide: society now    #motivation</td>\n",
       "    </tr>\n",
       "    <tr>\n",
       "      <th>5</th>\n",
       "      <td>6</td>\n",
       "      <td>0</td>\n",
       "      <td>[2/2] huge fan fare and big talking before the...</td>\n",
       "    </tr>\n",
       "    <tr>\n",
       "      <th>6</th>\n",
       "      <td>7</td>\n",
       "      <td>0</td>\n",
       "      <td>@user camping tomorrow @user @user @user @use...</td>\n",
       "    </tr>\n",
       "    <tr>\n",
       "      <th>7</th>\n",
       "      <td>8</td>\n",
       "      <td>0</td>\n",
       "      <td>the next school year is the year for exams.ð...</td>\n",
       "    </tr>\n",
       "  </tbody>\n",
       "</table>\n",
       "</div>"
      ],
      "text/plain": [
       "   id  label                                              tweet\n",
       "0   1      0   @user when a father is dysfunctional and is s...\n",
       "1   2      0  @user @user thanks for #lyft credit i can't us...\n",
       "2   3      0                                bihday your majesty\n",
       "3   4      0  #model   i love u take with u all the time in ...\n",
       "4   5      0             factsguide: society now    #motivation\n",
       "5   6      0  [2/2] huge fan fare and big talking before the...\n",
       "6   7      0   @user camping tomorrow @user @user @user @use...\n",
       "7   8      0  the next school year is the year for exams.ð..."
      ]
     },
     "execution_count": 3,
     "metadata": {},
     "output_type": "execute_result"
    }
   ],
   "source": [
    "TwitterHate_df.head(8)"
   ]
  },
  {
   "cell_type": "code",
   "execution_count": 4,
   "id": "38dafdcb",
   "metadata": {},
   "outputs": [
    {
     "data": {
      "text/plain": [
       "(31962, 3)"
      ]
     },
     "execution_count": 4,
     "metadata": {},
     "output_type": "execute_result"
    }
   ],
   "source": [
    "TwitterHate_df.shape"
   ]
  },
  {
   "cell_type": "code",
   "execution_count": 5,
   "id": "9ded40ad",
   "metadata": {},
   "outputs": [
    {
     "name": "stdout",
     "output_type": "stream",
     "text": [
      "<class 'pandas.core.frame.DataFrame'>\n",
      "RangeIndex: 31962 entries, 0 to 31961\n",
      "Data columns (total 3 columns):\n",
      " #   Column  Non-Null Count  Dtype \n",
      "---  ------  --------------  ----- \n",
      " 0   id      31962 non-null  int64 \n",
      " 1   label   31962 non-null  int64 \n",
      " 2   tweet   31962 non-null  object\n",
      "dtypes: int64(2), object(1)\n",
      "memory usage: 749.2+ KB\n"
     ]
    }
   ],
   "source": [
    "TwitterHate_df.info()"
   ]
  },
  {
   "cell_type": "code",
   "execution_count": 6,
   "id": "4f33381d",
   "metadata": {},
   "outputs": [
    {
     "data": {
      "text/plain": [
       "0    29720\n",
       "1     2242\n",
       "Name: label, dtype: int64"
      ]
     },
     "execution_count": 6,
     "metadata": {},
     "output_type": "execute_result"
    }
   ],
   "source": [
    "# imbalance dataset\n",
    "TwitterHate_df.label.value_counts()"
   ]
  },
  {
   "cell_type": "code",
   "execution_count": 7,
   "id": "10afb1be",
   "metadata": {},
   "outputs": [
    {
     "data": {
      "text/plain": [
       "id       0\n",
       "label    0\n",
       "tweet    0\n",
       "dtype: int64"
      ]
     },
     "execution_count": 7,
     "metadata": {},
     "output_type": "execute_result"
    }
   ],
   "source": [
    "# zero null value\n",
    "TwitterHate_df.isna().sum()"
   ]
  },
  {
   "cell_type": "code",
   "execution_count": 8,
   "id": "896ba463",
   "metadata": {},
   "outputs": [],
   "source": [
    "# drop id column\n",
    "TwitterHate_df.drop(['id'],inplace=True,axis=1)"
   ]
  },
  {
   "cell_type": "code",
   "execution_count": 9,
   "id": "6f164fcd",
   "metadata": {},
   "outputs": [
    {
     "data": {
      "text/html": [
       "<div>\n",
       "<style scoped>\n",
       "    .dataframe tbody tr th:only-of-type {\n",
       "        vertical-align: middle;\n",
       "    }\n",
       "\n",
       "    .dataframe tbody tr th {\n",
       "        vertical-align: top;\n",
       "    }\n",
       "\n",
       "    .dataframe thead th {\n",
       "        text-align: right;\n",
       "    }\n",
       "</style>\n",
       "<table border=\"1\" class=\"dataframe\">\n",
       "  <thead>\n",
       "    <tr style=\"text-align: right;\">\n",
       "      <th></th>\n",
       "      <th>label</th>\n",
       "      <th>tweet</th>\n",
       "    </tr>\n",
       "  </thead>\n",
       "  <tbody>\n",
       "    <tr>\n",
       "      <th>0</th>\n",
       "      <td>0</td>\n",
       "      <td>@user when a father is dysfunctional and is s...</td>\n",
       "    </tr>\n",
       "    <tr>\n",
       "      <th>1</th>\n",
       "      <td>0</td>\n",
       "      <td>@user @user thanks for #lyft credit i can't us...</td>\n",
       "    </tr>\n",
       "    <tr>\n",
       "      <th>2</th>\n",
       "      <td>0</td>\n",
       "      <td>bihday your majesty</td>\n",
       "    </tr>\n",
       "    <tr>\n",
       "      <th>3</th>\n",
       "      <td>0</td>\n",
       "      <td>#model   i love u take with u all the time in ...</td>\n",
       "    </tr>\n",
       "    <tr>\n",
       "      <th>4</th>\n",
       "      <td>0</td>\n",
       "      <td>factsguide: society now    #motivation</td>\n",
       "    </tr>\n",
       "  </tbody>\n",
       "</table>\n",
       "</div>"
      ],
      "text/plain": [
       "   label                                              tweet\n",
       "0      0   @user when a father is dysfunctional and is s...\n",
       "1      0  @user @user thanks for #lyft credit i can't us...\n",
       "2      0                                bihday your majesty\n",
       "3      0  #model   i love u take with u all the time in ...\n",
       "4      0             factsguide: society now    #motivation"
      ]
     },
     "execution_count": 9,
     "metadata": {},
     "output_type": "execute_result"
    }
   ],
   "source": [
    "TwitterHate_df.head()"
   ]
  },
  {
   "cell_type": "code",
   "execution_count": 10,
   "id": "c2d25d08",
   "metadata": {},
   "outputs": [
    {
     "data": {
      "text/plain": [
       "list"
      ]
     },
     "execution_count": 10,
     "metadata": {},
     "output_type": "execute_result"
    }
   ],
   "source": [
    "# Get the tweets into a list for easy text cleanup and manipulation\n",
    "tweets = TwitterHate_df['tweet'].tolist()\n",
    "type(tweets)"
   ]
  },
  {
   "cell_type": "code",
   "execution_count": 11,
   "id": "f5e73b92",
   "metadata": {},
   "outputs": [],
   "source": [
    "# Normalize the casing\n",
    "tweets_preprocess = [twt.lower() for twt in tweets]"
   ]
  },
  {
   "cell_type": "code",
   "execution_count": 12,
   "id": "eb8a95e0",
   "metadata": {},
   "outputs": [],
   "source": [
    "def preprocess_text(tweets):\n",
    "     \n",
    "    # Replace URLs\n",
    "    tweets_preprocess = [re.sub(r'(http[s]?\\S+)|(\\w+\\.[A-Za-z]{2,4}\\S*)',\"\", twt) for twt in tweets]\n",
    "    \n",
    "    # Remove user handles. These begin with '@’. \n",
    "    tweets_preprocess = [re.sub(\"@\\w+\",\"\", twt) for twt in tweets_preprocess]\n",
    "    \n",
    "    # Remove punctuation and ‘#’ symbols from the tweet while retaining the term.\n",
    "    tweets_preprocess = [re.sub(r'[^\\w\\d\\s]',\"\", twt) for twt in tweets_preprocess] \n",
    "    \n",
    "    # Remove redundant terms like ‘amp’, ‘rt’\n",
    "    tweets_preprocess = [re.sub(r'rt', ' ', twt)  for twt in tweets_preprocess] \n",
    "    tweets_preprocess = [re.sub(r'amp', ' ', twt)  for twt in tweets_preprocess] \n",
    "    tweets_preprocess = [re.sub(r'ð', ' ', twt)  for twt in tweets_preprocess] \n",
    "    \n",
    "    # Remove numbers\n",
    "    tweets_preprocess = [re.sub(r'\\d+(\\.\\d+)?', ' ', twt)  for twt in tweets_preprocess] \n",
    "    \n",
    "    #tokenize the tweets into individual terms\n",
    "    tweet_token = [tkn.tokenize(sent) for sent in tweets_preprocess]\n",
    "    \n",
    "    return tweet_token"
   ]
  },
  {
   "cell_type": "code",
   "execution_count": 13,
   "id": "d7af2ed7",
   "metadata": {},
   "outputs": [
    {
     "data": {
      "text/plain": [
       "list"
      ]
     },
     "execution_count": 13,
     "metadata": {},
     "output_type": "execute_result"
    }
   ],
   "source": [
    "tkn = TweetTokenizer()\n",
    "tweets = preprocess_text(tweets_preprocess)\n",
    "type(tweets)"
   ]
  },
  {
   "cell_type": "code",
   "execution_count": 14,
   "id": "e44da50a",
   "metadata": {},
   "outputs": [
    {
     "name": "stdout",
     "output_type": "stream",
     "text": [
      "['model', 'i', 'love', 'u', 'take', 'with', 'u', 'all', 'the', 'time', 'in', 'ur']\n"
     ]
    }
   ],
   "source": [
    "print(tweets[3])"
   ]
  },
  {
   "cell_type": "code",
   "execution_count": 15,
   "id": "b18520e1",
   "metadata": {},
   "outputs": [],
   "source": [
    "# Remove stop words.\n",
    "# Remove terms with a length of 1.\n",
    "def del_stop(sent):\n",
    "    return [term for term in sent if ((term not in stop_words) & (len(term)>1))]\n",
    " \n",
    "tweets_clean = [del_stop(tweet) for tweet in tweets] "
   ]
  },
  {
   "cell_type": "code",
   "execution_count": 16,
   "id": "fd2aaca4",
   "metadata": {},
   "outputs": [
    {
     "name": "stdout",
     "output_type": "stream",
     "text": [
      "['model', 'love', 'take', 'time', 'ur']\n"
     ]
    }
   ],
   "source": [
    "print(tweets_clean[3])"
   ]
  },
  {
   "cell_type": "code",
   "execution_count": 17,
   "id": "c26d715d",
   "metadata": {},
   "outputs": [
    {
     "data": {
      "text/plain": [
       "[('love', 2673),\n",
       " ('day', 2271),\n",
       " ('happy', 1672),\n",
       " ('im', 1143),\n",
       " ('like', 1139),\n",
       " ('time', 1123),\n",
       " ('life', 1098),\n",
       " ('today', 1001),\n",
       " ('new', 983),\n",
       " ('positive', 928)]"
      ]
     },
     "execution_count": 17,
     "metadata": {},
     "output_type": "execute_result"
    }
   ],
   "source": [
    "# Get all the tokenized terms into one large list.\n",
    "terms = list(chain.from_iterable(tweets_clean))\n",
    "# Find the 10 most common terms using counter\n",
    "terms = Counter(terms)\n",
    "terms.most_common(10)"
   ]
  },
  {
   "cell_type": "code",
   "execution_count": 18,
   "id": "10d61057",
   "metadata": {},
   "outputs": [
    {
     "data": {
      "text/plain": [
       "['father dysfunctional selfish drags kids dysfunction run',\n",
       " 'thanks lyft credit cant use cause dont offer wheelchair vans pdx disapointed getthanked']"
      ]
     },
     "execution_count": 18,
     "metadata": {},
     "output_type": "execute_result"
    }
   ],
   "source": [
    "# Join the tokens back to form strings\n",
    "tweets_clean = [' '.join(twe) for twe in tweets_clean] \n",
    "tweets_clean[0:2]"
   ]
  },
  {
   "cell_type": "code",
   "execution_count": 19,
   "id": "7fb9986e",
   "metadata": {},
   "outputs": [],
   "source": [
    "# Assign x and y\n",
    "X = tweets_clean\n",
    "Y = TwitterHate_df['label']"
   ]
  },
  {
   "cell_type": "code",
   "execution_count": 20,
   "id": "4f0897b6",
   "metadata": {},
   "outputs": [],
   "source": [
    "# Split into train and test set\n",
    "X_train, X_test , Y_train , Y_test = train_test_split(X, Y, test_size = 0.30, random_state=42, stratify=Y)"
   ]
  },
  {
   "cell_type": "code",
   "execution_count": 21,
   "id": "354214dd",
   "metadata": {},
   "outputs": [],
   "source": [
    "# build a vocabulary of 5000\n",
    "vectorizer = TfidfVectorizer(max_features = 5000)\n",
    "X_train_vect = vectorizer.fit_transform(X_train)\n",
    "X_test_vect = vectorizer.transform(X_test)"
   ]
  },
  {
   "cell_type": "code",
   "execution_count": 22,
   "id": "ba0c5b9a",
   "metadata": {},
   "outputs": [
    {
     "data": {
      "text/plain": [
       "((22373, 5000), (9589, 5000))"
      ]
     },
     "execution_count": 22,
     "metadata": {},
     "output_type": "execute_result"
    }
   ],
   "source": [
    "X_train_vect.shape , X_test_vect.shape"
   ]
  },
  {
   "cell_type": "code",
   "execution_count": 23,
   "id": "34d4f198",
   "metadata": {},
   "outputs": [
    {
     "data": {
      "text/plain": [
       "LogisticRegression()"
      ]
     },
     "execution_count": 23,
     "metadata": {},
     "output_type": "execute_result"
    }
   ],
   "source": [
    "# Instantiate Logistic Regression and fit into the train data\n",
    "model = LogisticRegression()\n",
    "model.fit(X_train_vect,Y_train)"
   ]
  },
  {
   "cell_type": "code",
   "execution_count": 24,
   "id": "c7f62679",
   "metadata": {},
   "outputs": [],
   "source": [
    "# Make predictions for the train set\n",
    "y_predict_train = model.predict(X_train_vect)"
   ]
  },
  {
   "cell_type": "code",
   "execution_count": 25,
   "id": "cd6d5e8b",
   "metadata": {},
   "outputs": [
    {
     "data": {
      "text/plain": [
       "0.9531578241630537"
      ]
     },
     "execution_count": 25,
     "metadata": {},
     "output_type": "execute_result"
    }
   ],
   "source": [
    "# Accuracy on the train set\n",
    "accuracy_score(Y_train, y_predict_train)"
   ]
  },
  {
   "cell_type": "code",
   "execution_count": 26,
   "id": "d3a2c12f",
   "metadata": {},
   "outputs": [
    {
     "name": "stdout",
     "output_type": "stream",
     "text": [
      "              precision    recall  f1-score   support\n",
      "\n",
      "           0       0.95      1.00      0.98     20804\n",
      "           1       0.95      0.35      0.51      1569\n",
      "\n",
      "    accuracy                           0.95     22373\n",
      "   macro avg       0.95      0.68      0.74     22373\n",
      "weighted avg       0.95      0.95      0.94     22373\n",
      "\n"
     ]
    }
   ],
   "source": [
    "print(classification_report(Y_train, y_predict_train))"
   ]
  },
  {
   "cell_type": "code",
   "execution_count": 27,
   "id": "27375e9b",
   "metadata": {},
   "outputs": [],
   "source": [
    "# Adjust class_weight in the LogisticRegression model\n",
    "model = LogisticRegression(class_weight='balanced')"
   ]
  },
  {
   "cell_type": "code",
   "execution_count": 28,
   "id": "5937d588",
   "metadata": {},
   "outputs": [],
   "source": [
    "# Train again with the adjustment\n",
    "model.fit(X_train_vect,Y_train)\n",
    "y_predict_train = model.predict(X_train_vect)"
   ]
  },
  {
   "cell_type": "code",
   "execution_count": 29,
   "id": "3261ef75",
   "metadata": {},
   "outputs": [
    {
     "name": "stdout",
     "output_type": "stream",
     "text": [
      "              precision    recall  f1-score   support\n",
      "\n",
      "           0       1.00      0.95      0.97     20804\n",
      "           1       0.57      0.97      0.72      1569\n",
      "\n",
      "    accuracy                           0.95     22373\n",
      "   macro avg       0.79      0.96      0.85     22373\n",
      "weighted avg       0.97      0.95      0.95     22373\n",
      "\n"
     ]
    }
   ],
   "source": [
    "print(classification_report(Y_train, y_predict_train))"
   ]
  },
  {
   "cell_type": "code",
   "execution_count": 30,
   "id": "d77d9dd8",
   "metadata": {},
   "outputs": [],
   "source": [
    "# Provide the parameter for ‘C’ and ‘penalty’\n",
    "grid_para ={\n",
    "    'C':[0.1, 1, 10],\n",
    "    'penalty': [\"l1\",\"l2\"]\n",
    "}"
   ]
  },
  {
   "cell_type": "code",
   "execution_count": 31,
   "id": "5e466a11",
   "metadata": {},
   "outputs": [],
   "source": [
    "model = LogisticRegression(class_weight='balanced')"
   ]
  },
  {
   "cell_type": "code",
   "execution_count": 32,
   "id": "a9299191",
   "metadata": {},
   "outputs": [
    {
     "data": {
      "text/plain": [
       "GridSearchCV(cv=StratifiedKFold(n_splits=4, random_state=None, shuffle=False),\n",
       "             estimator=LogisticRegression(class_weight='balanced'),\n",
       "             param_grid={'C': [0.1, 1, 10], 'penalty': ['l1', 'l2']},\n",
       "             scoring='recall')"
      ]
     },
     "execution_count": 32,
     "metadata": {},
     "output_type": "execute_result"
    }
   ],
   "source": [
    "# Choose ‘recall’ as the metric for scoring and 4 fold cross validation.\n",
    "GridSearch = GridSearchCV(estimator=model,param_grid=grid_para, cv=StratifiedKFold(4),scoring='recall')\n",
    "GridSearch.fit(X_train_vect,Y_train)"
   ]
  },
  {
   "cell_type": "code",
   "execution_count": 33,
   "id": "626063a6",
   "metadata": {},
   "outputs": [
    {
     "data": {
      "text/plain": [
       "LogisticRegression(C=0.1, class_weight='balanced')"
      ]
     },
     "execution_count": 33,
     "metadata": {},
     "output_type": "execute_result"
    }
   ],
   "source": [
    "# Check the best parameters\n",
    "GridSearch.best_estimator_"
   ]
  },
  {
   "cell_type": "code",
   "execution_count": 34,
   "id": "8afeedb5",
   "metadata": {},
   "outputs": [],
   "source": [
    "# Predict and evaluate using the best estimator\n",
    "y_predict_test = GridSearch.best_estimator_.predict(X_test_vect)"
   ]
  },
  {
   "cell_type": "code",
   "execution_count": 35,
   "id": "f5654cde",
   "metadata": {},
   "outputs": [
    {
     "name": "stdout",
     "output_type": "stream",
     "text": [
      "              precision    recall  f1-score   support\n",
      "\n",
      "           0       0.98      0.92      0.95      8916\n",
      "           1       0.44      0.77      0.56       673\n",
      "\n",
      "    accuracy                           0.91      9589\n",
      "   macro avg       0.71      0.85      0.76      9589\n",
      "weighted avg       0.94      0.91      0.92      9589\n",
      "\n"
     ]
    }
   ],
   "source": [
    "print(classification_report(Y_test, y_predict_test))"
   ]
  }
 ],
 "metadata": {
  "kernelspec": {
   "display_name": "Python 3",
   "language": "python",
   "name": "python3"
  },
  "language_info": {
   "codemirror_mode": {
    "name": "ipython",
    "version": 3
   },
   "file_extension": ".py",
   "mimetype": "text/x-python",
   "name": "python",
   "nbconvert_exporter": "python",
   "pygments_lexer": "ipython3",
   "version": "3.8.10"
  }
 },
 "nbformat": 4,
 "nbformat_minor": 5
}
